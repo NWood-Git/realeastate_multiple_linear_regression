{
 "cells": [
  {
   "cell_type": "code",
   "execution_count": 26,
   "metadata": {},
   "outputs": [],
   "source": [
    "import numpy as np\n",
    "import pandas as pd\n",
    "import matplotlib.pyplot as plt\n",
    "from sklearn.linear_model import LinearRegression\n",
    "from sklearn.model_selection import train_test_split\n",
    "from sklearn.metrics import mean_squared_error"
   ]
  },
  {
   "cell_type": "code",
   "execution_count": 2,
   "metadata": {},
   "outputs": [
    {
     "data": {
      "text/html": [
       "<div>\n",
       "<style scoped>\n",
       "    .dataframe tbody tr th:only-of-type {\n",
       "        vertical-align: middle;\n",
       "    }\n",
       "\n",
       "    .dataframe tbody tr th {\n",
       "        vertical-align: top;\n",
       "    }\n",
       "\n",
       "    .dataframe thead th {\n",
       "        text-align: right;\n",
       "    }\n",
       "</style>\n",
       "<table border=\"1\" class=\"dataframe\">\n",
       "  <thead>\n",
       "    <tr style=\"text-align: right;\">\n",
       "      <th></th>\n",
       "      <th>Price</th>\n",
       "      <th>Bedroom</th>\n",
       "      <th>Space</th>\n",
       "      <th>Room</th>\n",
       "      <th>Lot</th>\n",
       "      <th>Tax</th>\n",
       "      <th>Bathroom</th>\n",
       "      <th>Garage</th>\n",
       "      <th>Condition</th>\n",
       "    </tr>\n",
       "  </thead>\n",
       "  <tbody>\n",
       "    <tr>\n",
       "      <th>0</th>\n",
       "      <td>53.0</td>\n",
       "      <td>2.0</td>\n",
       "      <td>967.0</td>\n",
       "      <td>5.0</td>\n",
       "      <td>39.0</td>\n",
       "      <td>652.0</td>\n",
       "      <td>1.5</td>\n",
       "      <td>0.0</td>\n",
       "      <td>0.0</td>\n",
       "    </tr>\n",
       "    <tr>\n",
       "      <th>1</th>\n",
       "      <td>55.0</td>\n",
       "      <td>2.0</td>\n",
       "      <td>815.0</td>\n",
       "      <td>5.0</td>\n",
       "      <td>33.0</td>\n",
       "      <td>1000.0</td>\n",
       "      <td>1.0</td>\n",
       "      <td>2.0</td>\n",
       "      <td>1.0</td>\n",
       "    </tr>\n",
       "    <tr>\n",
       "      <th>2</th>\n",
       "      <td>56.0</td>\n",
       "      <td>3.0</td>\n",
       "      <td>900.0</td>\n",
       "      <td>5.0</td>\n",
       "      <td>35.0</td>\n",
       "      <td>897.0</td>\n",
       "      <td>1.5</td>\n",
       "      <td>1.0</td>\n",
       "      <td>0.0</td>\n",
       "    </tr>\n",
       "    <tr>\n",
       "      <th>3</th>\n",
       "      <td>58.0</td>\n",
       "      <td>3.0</td>\n",
       "      <td>1007.0</td>\n",
       "      <td>6.0</td>\n",
       "      <td>24.0</td>\n",
       "      <td>964.0</td>\n",
       "      <td>1.5</td>\n",
       "      <td>2.0</td>\n",
       "      <td>0.0</td>\n",
       "    </tr>\n",
       "    <tr>\n",
       "      <th>4</th>\n",
       "      <td>64.0</td>\n",
       "      <td>3.0</td>\n",
       "      <td>1100.0</td>\n",
       "      <td>7.0</td>\n",
       "      <td>50.0</td>\n",
       "      <td>1099.0</td>\n",
       "      <td>1.5</td>\n",
       "      <td>1.5</td>\n",
       "      <td>0.0</td>\n",
       "    </tr>\n",
       "  </tbody>\n",
       "</table>\n",
       "</div>"
      ],
      "text/plain": [
       "   Price  Bedroom   Space  Room   Lot     Tax  Bathroom  Garage  Condition\n",
       "0   53.0      2.0   967.0   5.0  39.0   652.0       1.5     0.0        0.0\n",
       "1   55.0      2.0   815.0   5.0  33.0  1000.0       1.0     2.0        1.0\n",
       "2   56.0      3.0   900.0   5.0  35.0   897.0       1.5     1.0        0.0\n",
       "3   58.0      3.0  1007.0   6.0  24.0   964.0       1.5     2.0        0.0\n",
       "4   64.0      3.0  1100.0   7.0  50.0  1099.0       1.5     1.5        0.0"
      ]
     },
     "execution_count": 2,
     "metadata": {},
     "output_type": "execute_result"
    }
   ],
   "source": [
    "data = pd.read_csv('./data/realest.csv')\n",
    "data.head()"
   ]
  },
  {
   "cell_type": "code",
   "execution_count": 3,
   "metadata": {},
   "outputs": [
    {
     "data": {
      "text/html": [
       "<div>\n",
       "<style scoped>\n",
       "    .dataframe tbody tr th:only-of-type {\n",
       "        vertical-align: middle;\n",
       "    }\n",
       "\n",
       "    .dataframe tbody tr th {\n",
       "        vertical-align: top;\n",
       "    }\n",
       "\n",
       "    .dataframe thead th {\n",
       "        text-align: right;\n",
       "    }\n",
       "</style>\n",
       "<table border=\"1\" class=\"dataframe\">\n",
       "  <thead>\n",
       "    <tr style=\"text-align: right;\">\n",
       "      <th></th>\n",
       "      <th>Price</th>\n",
       "      <th>Bedroom</th>\n",
       "      <th>Space</th>\n",
       "      <th>Room</th>\n",
       "      <th>Lot</th>\n",
       "      <th>Tax</th>\n",
       "      <th>Bathroom</th>\n",
       "      <th>Garage</th>\n",
       "      <th>Condition</th>\n",
       "    </tr>\n",
       "  </thead>\n",
       "  <tbody>\n",
       "    <tr>\n",
       "      <th>0</th>\n",
       "      <td>53.0</td>\n",
       "      <td>2.0</td>\n",
       "      <td>967.0</td>\n",
       "      <td>5.0</td>\n",
       "      <td>39.0</td>\n",
       "      <td>652.0</td>\n",
       "      <td>1.5</td>\n",
       "      <td>0.0</td>\n",
       "      <td>0.0</td>\n",
       "    </tr>\n",
       "    <tr>\n",
       "      <th>1</th>\n",
       "      <td>55.0</td>\n",
       "      <td>2.0</td>\n",
       "      <td>815.0</td>\n",
       "      <td>5.0</td>\n",
       "      <td>33.0</td>\n",
       "      <td>1000.0</td>\n",
       "      <td>1.0</td>\n",
       "      <td>2.0</td>\n",
       "      <td>1.0</td>\n",
       "    </tr>\n",
       "    <tr>\n",
       "      <th>2</th>\n",
       "      <td>56.0</td>\n",
       "      <td>3.0</td>\n",
       "      <td>900.0</td>\n",
       "      <td>5.0</td>\n",
       "      <td>35.0</td>\n",
       "      <td>897.0</td>\n",
       "      <td>1.5</td>\n",
       "      <td>1.0</td>\n",
       "      <td>0.0</td>\n",
       "    </tr>\n",
       "    <tr>\n",
       "      <th>3</th>\n",
       "      <td>58.0</td>\n",
       "      <td>3.0</td>\n",
       "      <td>1007.0</td>\n",
       "      <td>6.0</td>\n",
       "      <td>24.0</td>\n",
       "      <td>964.0</td>\n",
       "      <td>1.5</td>\n",
       "      <td>2.0</td>\n",
       "      <td>0.0</td>\n",
       "    </tr>\n",
       "    <tr>\n",
       "      <th>4</th>\n",
       "      <td>64.0</td>\n",
       "      <td>3.0</td>\n",
       "      <td>1100.0</td>\n",
       "      <td>7.0</td>\n",
       "      <td>50.0</td>\n",
       "      <td>1099.0</td>\n",
       "      <td>1.5</td>\n",
       "      <td>1.5</td>\n",
       "      <td>0.0</td>\n",
       "    </tr>\n",
       "    <tr>\n",
       "      <th>...</th>\n",
       "      <td>...</td>\n",
       "      <td>...</td>\n",
       "      <td>...</td>\n",
       "      <td>...</td>\n",
       "      <td>...</td>\n",
       "      <td>...</td>\n",
       "      <td>...</td>\n",
       "      <td>...</td>\n",
       "      <td>...</td>\n",
       "    </tr>\n",
       "    <tr>\n",
       "      <th>152</th>\n",
       "      <td>44.0</td>\n",
       "      <td>3.0</td>\n",
       "      <td>820.0</td>\n",
       "      <td>5.0</td>\n",
       "      <td>27.0</td>\n",
       "      <td>NaN</td>\n",
       "      <td>1.0</td>\n",
       "      <td>0.0</td>\n",
       "      <td>1.0</td>\n",
       "    </tr>\n",
       "    <tr>\n",
       "      <th>153</th>\n",
       "      <td>43.0</td>\n",
       "      <td>2.0</td>\n",
       "      <td>593.0</td>\n",
       "      <td>4.0</td>\n",
       "      <td>30.0</td>\n",
       "      <td>465.0</td>\n",
       "      <td>2.0</td>\n",
       "      <td>1.0</td>\n",
       "      <td>0.0</td>\n",
       "    </tr>\n",
       "    <tr>\n",
       "      <th>154</th>\n",
       "      <td>53.0</td>\n",
       "      <td>3.0</td>\n",
       "      <td>716.0</td>\n",
       "      <td>6.0</td>\n",
       "      <td>30.0</td>\n",
       "      <td>585.0</td>\n",
       "      <td>1.0</td>\n",
       "      <td>2.0</td>\n",
       "      <td>1.0</td>\n",
       "    </tr>\n",
       "    <tr>\n",
       "      <th>155</th>\n",
       "      <td>62.0</td>\n",
       "      <td>4.0</td>\n",
       "      <td>951.0</td>\n",
       "      <td>7.0</td>\n",
       "      <td>30.0</td>\n",
       "      <td>895.0</td>\n",
       "      <td>2.0</td>\n",
       "      <td>1.0</td>\n",
       "      <td>0.0</td>\n",
       "    </tr>\n",
       "    <tr>\n",
       "      <th>156</th>\n",
       "      <td>NaN</td>\n",
       "      <td>NaN</td>\n",
       "      <td>NaN</td>\n",
       "      <td>NaN</td>\n",
       "      <td>NaN</td>\n",
       "      <td>NaN</td>\n",
       "      <td>NaN</td>\n",
       "      <td>NaN</td>\n",
       "      <td>NaN</td>\n",
       "    </tr>\n",
       "  </tbody>\n",
       "</table>\n",
       "<p>157 rows × 9 columns</p>\n",
       "</div>"
      ],
      "text/plain": [
       "     Price  Bedroom   Space  Room   Lot     Tax  Bathroom  Garage  Condition\n",
       "0     53.0      2.0   967.0   5.0  39.0   652.0       1.5     0.0        0.0\n",
       "1     55.0      2.0   815.0   5.0  33.0  1000.0       1.0     2.0        1.0\n",
       "2     56.0      3.0   900.0   5.0  35.0   897.0       1.5     1.0        0.0\n",
       "3     58.0      3.0  1007.0   6.0  24.0   964.0       1.5     2.0        0.0\n",
       "4     64.0      3.0  1100.0   7.0  50.0  1099.0       1.5     1.5        0.0\n",
       "..     ...      ...     ...   ...   ...     ...       ...     ...        ...\n",
       "152   44.0      3.0   820.0   5.0  27.0     NaN       1.0     0.0        1.0\n",
       "153   43.0      2.0   593.0   4.0  30.0   465.0       2.0     1.0        0.0\n",
       "154   53.0      3.0   716.0   6.0  30.0   585.0       1.0     2.0        1.0\n",
       "155   62.0      4.0   951.0   7.0  30.0   895.0       2.0     1.0        0.0\n",
       "156    NaN      NaN     NaN   NaN   NaN     NaN       NaN     NaN        NaN\n",
       "\n",
       "[157 rows x 9 columns]"
      ]
     },
     "execution_count": 3,
     "metadata": {},
     "output_type": "execute_result"
    }
   ],
   "source": [
    "data.head(160)"
   ]
  },
  {
   "cell_type": "code",
   "execution_count": 4,
   "metadata": {},
   "outputs": [
    {
     "name": "stdout",
     "output_type": "stream",
     "text": [
      "Before DropNA\n",
      "157\n",
      "38\n",
      "After DropNA\n",
      "128\n",
      "0\n"
     ]
    }
   ],
   "source": [
    "# Removing Missing values\n",
    "print(\"Before DropNA\")\n",
    "org_len = len(data)\n",
    "print(org_len)\n",
    "number_that_will_be_removed = data.isnull().values.sum() # total number of nulls\n",
    "print(number_that_will_be_removed)\n",
    "df = data.dropna()\n",
    "print(\"After DropNA\")\n",
    "new_len = len(df)\n",
    "print(new_len)\n",
    "print(df.isnull().values.sum())"
   ]
  },
  {
   "cell_type": "markdown",
   "metadata": {},
   "source": [
    "Creating Summary List"
   ]
  },
  {
   "cell_type": "code",
   "execution_count": 5,
   "metadata": {},
   "outputs": [],
   "source": [
    "summary_list = [] "
   ]
  },
  {
   "cell_type": "code",
   "execution_count": 6,
   "metadata": {},
   "outputs": [
    {
     "name": "stdout",
     "output_type": "stream",
     "text": [
      "[[1013.3888888888889, 198.912969112237, 1041.5, 554.0, 1248.0]]\n"
     ]
    }
   ],
   "source": [
    "filtered_bedroom_bath = df[(df.Bathroom >= 2) & (df.Bedroom >=4)]\n",
    "tax_filtered_bedroom_bath = filtered_bedroom_bath['Tax']\n",
    "statistics = [tax_filtered_bedroom_bath.describe()['mean'],\n",
    "              tax_filtered_bedroom_bath.describe()['std'],\n",
    "              tax_filtered_bedroom_bath.describe()['50%'],\n",
    "              tax_filtered_bedroom_bath.describe()['min'],\n",
    "              tax_filtered_bedroom_bath.describe()['max']]\n",
    "summary_list.append(statistics)\n",
    "             \n",
    "print(summary_list)"
   ]
  },
  {
   "cell_type": "code",
   "execution_count": 7,
   "metadata": {},
   "outputs": [
    {
     "data": {
      "text/plain": [
       "count      18.000000\n",
       "mean     1013.388889\n",
       "std       198.912969\n",
       "min       554.000000\n",
       "25%       945.750000\n",
       "50%      1041.500000\n",
       "75%      1182.500000\n",
       "max      1248.000000\n",
       "Name: Tax, dtype: float64"
      ]
     },
     "execution_count": 7,
     "metadata": {},
     "output_type": "execute_result"
    }
   ],
   "source": [
    "tax_filtered_bedroom_bath.describe()"
   ]
  },
  {
   "cell_type": "code",
   "execution_count": 8,
   "metadata": {},
   "outputs": [
    {
     "data": {
      "text/html": [
       "<div>\n",
       "<style scoped>\n",
       "    .dataframe tbody tr th:only-of-type {\n",
       "        vertical-align: middle;\n",
       "    }\n",
       "\n",
       "    .dataframe tbody tr th {\n",
       "        vertical-align: top;\n",
       "    }\n",
       "\n",
       "    .dataframe thead th {\n",
       "        text-align: right;\n",
       "    }\n",
       "</style>\n",
       "<table border=\"1\" class=\"dataframe\">\n",
       "  <thead>\n",
       "    <tr style=\"text-align: right;\">\n",
       "      <th></th>\n",
       "      <th>Price</th>\n",
       "      <th>Bedroom</th>\n",
       "      <th>Space</th>\n",
       "      <th>Room</th>\n",
       "      <th>Lot</th>\n",
       "      <th>Tax</th>\n",
       "      <th>Bathroom</th>\n",
       "      <th>Garage</th>\n",
       "      <th>Condition</th>\n",
       "    </tr>\n",
       "  </thead>\n",
       "  <tbody>\n",
       "    <tr>\n",
       "      <th>114</th>\n",
       "      <td>90.0</td>\n",
       "      <td>8.0</td>\n",
       "      <td>2293.0</td>\n",
       "      <td>12.0</td>\n",
       "      <td>50.0</td>\n",
       "      <td>1181.0</td>\n",
       "      <td>3.0</td>\n",
       "      <td>2.0</td>\n",
       "      <td>0.0</td>\n",
       "    </tr>\n",
       "    <tr>\n",
       "      <th>36</th>\n",
       "      <td>88.0</td>\n",
       "      <td>8.0</td>\n",
       "      <td>2278.0</td>\n",
       "      <td>12.0</td>\n",
       "      <td>50.0</td>\n",
       "      <td>1183.0</td>\n",
       "      <td>3.0</td>\n",
       "      <td>2.0</td>\n",
       "      <td>0.0</td>\n",
       "    </tr>\n",
       "    <tr>\n",
       "      <th>140</th>\n",
       "      <td>88.0</td>\n",
       "      <td>7.0</td>\n",
       "      <td>2277.0</td>\n",
       "      <td>12.0</td>\n",
       "      <td>50.0</td>\n",
       "      <td>1248.0</td>\n",
       "      <td>3.0</td>\n",
       "      <td>2.0</td>\n",
       "      <td>0.0</td>\n",
       "    </tr>\n",
       "    <tr>\n",
       "      <th>88</th>\n",
       "      <td>88.0</td>\n",
       "      <td>8.0</td>\n",
       "      <td>2228.0</td>\n",
       "      <td>12.0</td>\n",
       "      <td>50.0</td>\n",
       "      <td>1208.0</td>\n",
       "      <td>3.0</td>\n",
       "      <td>2.0</td>\n",
       "      <td>0.0</td>\n",
       "    </tr>\n",
       "    <tr>\n",
       "      <th>62</th>\n",
       "      <td>85.0</td>\n",
       "      <td>7.0</td>\n",
       "      <td>2295.0</td>\n",
       "      <td>12.0</td>\n",
       "      <td>50.0</td>\n",
       "      <td>1233.0</td>\n",
       "      <td>3.0</td>\n",
       "      <td>2.0</td>\n",
       "      <td>0.0</td>\n",
       "    </tr>\n",
       "    <tr>\n",
       "      <th>...</th>\n",
       "      <td>...</td>\n",
       "      <td>...</td>\n",
       "      <td>...</td>\n",
       "      <td>...</td>\n",
       "      <td>...</td>\n",
       "      <td>...</td>\n",
       "      <td>...</td>\n",
       "      <td>...</td>\n",
       "      <td>...</td>\n",
       "    </tr>\n",
       "    <tr>\n",
       "      <th>19</th>\n",
       "      <td>35.0</td>\n",
       "      <td>4.0</td>\n",
       "      <td>1137.0</td>\n",
       "      <td>7.0</td>\n",
       "      <td>25.0</td>\n",
       "      <td>561.0</td>\n",
       "      <td>1.5</td>\n",
       "      <td>0.0</td>\n",
       "      <td>0.0</td>\n",
       "    </tr>\n",
       "    <tr>\n",
       "      <th>45</th>\n",
       "      <td>35.0</td>\n",
       "      <td>5.0</td>\n",
       "      <td>1142.0</td>\n",
       "      <td>7.0</td>\n",
       "      <td>25.0</td>\n",
       "      <td>543.0</td>\n",
       "      <td>1.5</td>\n",
       "      <td>0.0</td>\n",
       "      <td>0.0</td>\n",
       "    </tr>\n",
       "    <tr>\n",
       "      <th>71</th>\n",
       "      <td>34.0</td>\n",
       "      <td>4.0</td>\n",
       "      <td>1095.0</td>\n",
       "      <td>7.0</td>\n",
       "      <td>25.0</td>\n",
       "      <td>530.0</td>\n",
       "      <td>1.5</td>\n",
       "      <td>0.0</td>\n",
       "      <td>0.0</td>\n",
       "    </tr>\n",
       "    <tr>\n",
       "      <th>97</th>\n",
       "      <td>34.0</td>\n",
       "      <td>4.0</td>\n",
       "      <td>1087.0</td>\n",
       "      <td>7.0</td>\n",
       "      <td>25.0</td>\n",
       "      <td>584.0</td>\n",
       "      <td>1.5</td>\n",
       "      <td>0.0</td>\n",
       "      <td>0.0</td>\n",
       "    </tr>\n",
       "    <tr>\n",
       "      <th>149</th>\n",
       "      <td>32.0</td>\n",
       "      <td>4.0</td>\n",
       "      <td>1065.0</td>\n",
       "      <td>7.0</td>\n",
       "      <td>25.0</td>\n",
       "      <td>492.0</td>\n",
       "      <td>1.5</td>\n",
       "      <td>0.0</td>\n",
       "      <td>0.0</td>\n",
       "    </tr>\n",
       "  </tbody>\n",
       "</table>\n",
       "<p>97 rows × 9 columns</p>\n",
       "</div>"
      ],
      "text/plain": [
       "     Price  Bedroom   Space  Room   Lot     Tax  Bathroom  Garage  Condition\n",
       "114   90.0      8.0  2293.0  12.0  50.0  1181.0       3.0     2.0        0.0\n",
       "36    88.0      8.0  2278.0  12.0  50.0  1183.0       3.0     2.0        0.0\n",
       "140   88.0      7.0  2277.0  12.0  50.0  1248.0       3.0     2.0        0.0\n",
       "88    88.0      8.0  2228.0  12.0  50.0  1208.0       3.0     2.0        0.0\n",
       "62    85.0      7.0  2295.0  12.0  50.0  1233.0       3.0     2.0        0.0\n",
       "..     ...      ...     ...   ...   ...     ...       ...     ...        ...\n",
       "19    35.0      4.0  1137.0   7.0  25.0   561.0       1.5     0.0        0.0\n",
       "45    35.0      5.0  1142.0   7.0  25.0   543.0       1.5     0.0        0.0\n",
       "71    34.0      4.0  1095.0   7.0  25.0   530.0       1.5     0.0        0.0\n",
       "97    34.0      4.0  1087.0   7.0  25.0   584.0       1.5     0.0        0.0\n",
       "149   32.0      4.0  1065.0   7.0  25.0   492.0       1.5     0.0        0.0\n",
       "\n",
       "[97 rows x 9 columns]"
      ]
     },
     "execution_count": 8,
     "metadata": {},
     "output_type": "execute_result"
    }
   ],
   "source": [
    "data_frame = df[df.Space > 800].sort_values(by='Price', ascending=False)\n",
    "summary_list.append(data_frame)\n",
    "data_frame"
   ]
  },
  {
   "cell_type": "code",
   "execution_count": 9,
   "metadata": {},
   "outputs": [],
   "source": [
    "df_quantiles = df.quantile(.125)\n",
    "df_quantiles['Lot']\n",
    "\n",
    "number_of_observations = len(df[df.Lot >= df_quantiles['Lot']])\n",
    "summary_list.append(number_of_observations)"
   ]
  },
  {
   "cell_type": "code",
   "execution_count": 10,
   "metadata": {},
   "outputs": [
    {
     "data": {
      "text/plain": [
       "3"
      ]
     },
     "execution_count": 10,
     "metadata": {},
     "output_type": "execute_result"
    }
   ],
   "source": [
    "len(summary_list)"
   ]
  },
  {
   "cell_type": "markdown",
   "metadata": {},
   "source": [
    "Regression List"
   ]
  },
  {
   "cell_type": "code",
   "execution_count": 11,
   "metadata": {},
   "outputs": [],
   "source": [
    "# Bedroom, Space, Room, Lot, Tax, Bathroom, Garage, Condition"
   ]
  },
  {
   "cell_type": "code",
   "execution_count": 12,
   "metadata": {},
   "outputs": [
    {
     "data": {
      "text/plain": [
       "['intercept',\n",
       " 'Bedroom',\n",
       " 'Space',\n",
       " 'Room',\n",
       " 'Lot',\n",
       " 'Tax',\n",
       " 'Bathroom',\n",
       " 'Garage',\n",
       " 'Condition']"
      ]
     },
     "execution_count": 12,
     "metadata": {},
     "output_type": "execute_result"
    }
   ],
   "source": [
    "# model_parameters\n",
    "\n",
    "model_parameters =list(df.columns[1:])\n",
    "model_parameters.insert(0, 'intercept')\n",
    "model_parameters\n"
   ]
  },
  {
   "cell_type": "code",
   "execution_count": 13,
   "metadata": {},
   "outputs": [],
   "source": [
    "# Price prediction\n",
    "# result of the model usng input\n",
    "# ['Bedroom','Space','Room', 'Lot', 'Tax', 'Bathroom', 'Garage', 'Condition']\n",
    "# input = [3, 1500, 8, 40, 1000, 2, 1, 0]\n"
   ]
  },
  {
   "cell_type": "code",
   "execution_count": null,
   "metadata": {},
   "outputs": [],
   "source": []
  },
  {
   "cell_type": "markdown",
   "metadata": {},
   "source": [
    "Linear Regression Model"
   ]
  },
  {
   "cell_type": "code",
   "execution_count": 14,
   "metadata": {},
   "outputs": [],
   "source": [
    "y = df['Price']\n",
    "x = df.loc[:, df.columns != 'Price']"
   ]
  },
  {
   "cell_type": "code",
   "execution_count": 15,
   "metadata": {},
   "outputs": [],
   "source": [
    "# Splitting into Training and Testing Data: using sklearn's train, test split\n",
    "x_train, x_test, y_train, y_test = train_test_split(x, y, test_size = 0.2, random_state = 0)"
   ]
  },
  {
   "cell_type": "code",
   "execution_count": 16,
   "metadata": {},
   "outputs": [
    {
     "data": {
      "text/plain": [
       "LinearRegression()"
      ]
     },
     "execution_count": 16,
     "metadata": {},
     "output_type": "execute_result"
    }
   ],
   "source": [
    "regressor = LinearRegression()\n",
    "regressor.fit(x_train, y_train)"
   ]
  },
  {
   "cell_type": "code",
   "execution_count": 34,
   "metadata": {},
   "outputs": [
    {
     "name": "stdout",
     "output_type": "stream",
     "text": [
      "Loss on test set: 57.074519782616235\n"
     ]
    },
    {
     "data": {
      "text/plain": [
       "69.0"
      ]
     },
     "execution_count": 34,
     "metadata": {},
     "output_type": "execute_result"
    }
   ],
   "source": [
    "y_pred = regressor.predict(x_test)\n",
    "\n",
    "# Mean Squared Error on test set\n",
    "\n",
    "loss = mean_squared_error(y_test, y_pred)\n",
    "print(f\"Loss on test set: {loss}\")\n",
    "\n",
    "# from regression list\n",
    "\n",
    "price_prediction = round(regressor.predict([[3, 1500, 8, 40, 1000, 2, 1, 0]])[0])\n",
    "price_prediction"
   ]
  },
  {
   "cell_type": "code",
   "execution_count": 27,
   "metadata": {},
   "outputs": [
    {
     "data": {
      "image/png": "[encoded data removed]",
      "text/plain": [
       "<Figure size 864x432 with 1 Axes>"
      ]
     },
     "metadata": {
      "needs_background": "light"
     },
     "output_type": "display_data"
    }
   ],
   "source": [
    "# Actual vs. Prediction - Test set\n",
    "a_p_data = pd.DataFrame({\"actual\" : y_test, \"Predicted\" : y_pred})\n",
    "a_p_data.head(15).plot(kind='bar', figsize=(12,6))\n",
    "plt.show()"
   ]
  },
  {
   "cell_type": "code",
   "execution_count": 28,
   "metadata": {},
   "outputs": [
    {
     "data": {
      "text/plain": [
       "array([53., 55., 56., 58., 64., 44., 70., 82., 85., 45., 47., 49., 60.,\n",
       "       62., 66., 35., 38., 46., 50., 65., 54., 61., 72., 81., 88., 36.,\n",
       "       42., 48., 57., 59., 51., 84., 52., 69., 34., 39., 43., 63., 41.,\n",
       "       73., 80., 67., 90., 37., 32.])"
      ]
     },
     "execution_count": 28,
     "metadata": {},
     "output_type": "execute_result"
    }
   ],
   "source": [
    "df[\"Price\"].unique()"
   ]
  },
  {
   "cell_type": "code",
   "execution_count": null,
   "metadata": {},
   "outputs": [],
   "source": []
  },
  {
   "cell_type": "code",
   "execution_count": null,
   "metadata": {},
   "outputs": [],
   "source": []
  },
  {
   "cell_type": "code",
   "execution_count": null,
   "metadata": {},
   "outputs": [],
   "source": [
    "import numpy as np\n",
    "import pandas as pd\n",
    "from sklearn.linear_model import LinearRegression\n",
    "\n",
    "\n",
    "class AnalysisDataAndFitLinearRegression:\n",
    "\n",
    "    def __init__(self):\n",
    "        self.version = 1\n",
    "\n",
    "    def analyse_and_fit_lrm(self, path):\n",
    "        # a path to a dataset is \"./data/realest.csv\"\n",
    "        # dataset can be loaded by uncommenting the line bellow\n",
    "        data = pd.read_csv(path)\n",
    "        \n",
    "        summary_dict = {}\n",
    "        \n",
    "        #summary_dict - statistics\n",
    "        filtered_bedroom_bath = data[(data.Bathroom >= 2) & (data.Bedroom >=4)]\n",
    "        tax_filtered_bedroom_bath = filtered_bedroom_bath['Tax']\n",
    "        statistics = [tax_filtered_bedroom_bath.describe()['mean'],\n",
    "                      tax_filtered_bedroom_bath.describe()['std'],\n",
    "                      tax_filtered_bedroom_bath.describe()['50%'],\n",
    "                      tax_filtered_bedroom_bath.describe()['min'],\n",
    "                      tax_filtered_bedroom_bath.describe()['max']]\n",
    "        summary_dict['statistics']=statistics\n",
    "        \n",
    "        #summary_dict - data_frame\n",
    "        dataframe = data[data.Space > 800].sort_values(by='Price', ascending=False)\n",
    "        summary_dict['dataframe']=dataframe\n",
    "        \n",
    "        #summary_dict - number_of_observations\n",
    "        ## TO DO\n",
    "        \n",
    "        # regression_dict\n",
    "        \n",
    "        \n",
    "        \n",
    "        \n",
    "        \n",
    "        model_parameters = {}\n",
    "        price_prediction = {}\n",
    "        \n",
    "        return {\n",
    "            'model_parameters': model_parameters,\n",
    "            'price_prediction': price_prediction\n",
    "        }\n",
    "\n",
    "    def __listwise_deletion(self, data: pd.DataFrame):\n",
    "        return data.dropna()"
   ]
  },
  {
   "cell_type": "code",
   "execution_count": null,
   "metadata": {},
   "outputs": [],
   "source": []
  }
 ],
 "metadata": {
  "kernelspec": {
   "display_name": "Python 3.8.2 64-bit",
   "language": "python",
   "name": "python38264bit439ea6fc334741b3853c15bd9125142c"
  },
  "language_info": {
   "codemirror_mode": {
    "name": "ipython",
    "version": 3
   },
   "file_extension": ".py",
   "mimetype": "text/x-python",
   "name": "python",
   "nbconvert_exporter": "python",
   "pygments_lexer": "ipython3",
   "version": "3.8.5"
  }
 },
 "nbformat": 4,
 "nbformat_minor": 4
}
